{
 "cells": [
  {
   "cell_type": "code",
   "execution_count": null,
   "metadata": {},
   "outputs": [],
   "source": [
    "## Converting PowerShell Object Properties\n",
    "\n",
    "### What:  You have an object with multiple properties.  You need to convert or add layers to these properties to create a new object type\n",
    "\n",
    "Example 1:"
   ]
  },
  {
   "cell_type": "code",
   "execution_count": null,
   "metadata": {},
   "outputs": [],
   "source": [
    "$runningServices = get-service | Where-Object{$_.Status -eq \"Running\"}\n",
    "$runningServices[0] | Select-Object -Property UserName,StartupType,Name,ServiceName,ServiceType"
   ]
  }
 ],
 "metadata": {
  "language_info": {
   "name": "plaintext"
  },
  "orig_nbformat": 4
 },
 "nbformat": 4,
 "nbformat_minor": 2
}

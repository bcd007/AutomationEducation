## Converting PowerShell Object Properties

### What:  You have an object with multiple properties.  You need to convert or add layers to these properties to create a new object type

Example 1:


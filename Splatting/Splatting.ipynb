{
 "cells": [
  {
   "attachments": {},
   "cell_type": "markdown",
   "metadata": {},
   "source": [
    "# Splatting For Fun And Profit\n",
    "\n",
    "Splatting allows you to create a hashtable of complex parameter data and send it to the command directly.\n",
    "This allows for parameter data to be created outside of the command, and allows for validation on those parameters before command execution."
   ]
  },
  {
   "cell_type": "code",
   "execution_count": null,
   "metadata": {
    "dotnet_interactive": {
     "language": "pwsh"
    },
    "polyglot_notebook": {
     "kernelName": "pwsh"
    }
   },
   "outputs": [],
   "source": [
    "$hashTableforADAccountSearch = @{\n",
    "  Filter = 'GivenName -eq \"Robert\"'\n",
    "  Properties = 'whenCreated','telephoneNumber','Title'\n",
    "  Server = 'am.lilly.com'\n",
    "}\n",
    "\n",
    "get-aduser @hashTableforADAccountSearch"
   ]
  }
 ],
 "metadata": {
  "kernelspec": {
   "display_name": ".NET (C#)",
   "language": "C#",
   "name": ".net-csharp"
  },
  "language_info": {
   "name": "polyglot-notebook"
  },
  "orig_nbformat": 4,
  "polyglot_notebook": {
   "kernelInfo": {
    "defaultKernelName": "csharp",
    "items": [
     {
      "aliases": [],
      "name": "csharp"
     }
    ]
   }
  }
 },
 "nbformat": 4,
 "nbformat_minor": 2
}

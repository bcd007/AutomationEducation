{
 "cells": [
  {
   "attachments": {},
   "cell_type": "markdown",
   "metadata": {},
   "source": [
    "# Splatting For Fun And Profit\n",
    "\n",
    "Splatting allows you to create a hashtable of simple or complex parameters and send it to the command directly.\n",
    "\n",
    "## Benefits\n",
    "\n",
    "1 Programmatically create the parameters that a cmdlet uses\n",
    "2 Allows recoding or validation of parameters used\n",
    "3 Easier to understand the code (versus reading some giant command with 10 parameters)\n",
    "4 Allows your script to change the command output without having to change the code"
   ]
  },
  {
   "cell_type": "code",
   "execution_count": null,
   "metadata": {
    "dotnet_interactive": {
     "language": "pwsh"
    },
    "polyglot_notebook": {
     "kernelName": "pwsh"
    }
   },
   "outputs": [],
   "source": [
    "$hashTableforADAccountSearch = @{\n",
    "  Filter = 'GivenName -eq \"Robert\"'\n",
    "  Properties = 'whenCreated','telephoneNumber','Title'\n",
    "  ResultSetSize = 10\n",
    "}\n",
    "\n",
    "get-aduser @hashTableforADAccountSearch\n",
    "\n",
    "$hashTableforADAccountSearch = @{\n",
    "  Filter = '(GivenName -eq \"Bob\") -AND (surname -eq \"Dillon\")'\n",
    "  Properties = 'whenCreated','telephoneNumber','Title'\n",
    "  Server = ((Get-CimInstance -ClassName Win32_Computersystem).Domain)\n",
    "  ResultSetSize = 10\n",
    "}\n",
    "\n",
    "get-aduser @hashTableforADAccountSearch\n",
    "\n",
    "$hashTableforADAccountSearch | convertto-json | out-file LookForBob.json\n",
    "$hashtablefromJson = @{}; ((Get-Content .\\LookForBob.json -Raw) | convertfrom-json).psobject.properties | %{$hashtablefromJson[$_.Name]= $_.Value}\n",
    "\n",
    "get-aduser @hashTableFromJson\n",
    "\n",
    "\n",
    "# PowerShell 7 Extra!\n",
    "\n",
    "$hashTableFromJson = (get-content .\\LookForBob.json -raw) | convertfrom-json -AsHashtable\n",
    "\n",
    "get-aduser @hashTableFromJson\n"
   ]
  }
 ],
 "metadata": {
  "kernelspec": {
   "display_name": ".NET (C#)",
   "language": "C#",
   "name": ".net-csharp"
  },
  "language_info": {
   "name": "polyglot-notebook"
  },
  "orig_nbformat": 4,
  "polyglot_notebook": {
   "kernelInfo": {
    "defaultKernelName": "csharp",
    "items": [
     {
      "aliases": [],
      "name": "csharp"
     }
    ]
   }
  }
 },
 "nbformat": 4,
 "nbformat_minor": 2
}

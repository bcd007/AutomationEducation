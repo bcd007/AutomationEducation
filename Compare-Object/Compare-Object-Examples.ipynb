{
 "cells": [
  {
   "attachments": {},
   "cell_type": "markdown",
   "metadata": {},
   "source": [
    "# PowerShell Compare-Object Cmdlet\n",
    "What: How do we do comparisons of objects/properties in PowerShell?\n",
    "\n",
    "- Comparing simple properties/items\n",
    "- Can we compare object properties from differnet objects?\n",
    "- Can we compare an object to file contents?\n"
   ]
  },
  {
   "attachments": {},
   "cell_type": "markdown",
   "metadata": {},
   "source": [
    "First, let's look at the parameters of the cmdlet `Get-Help Compare-Object`."
   ]
  },
  {
   "cell_type": "code",
   "execution_count": 2,
   "metadata": {
    "dotnet_interactive": {
     "language": "pwsh"
    }
   },
   "outputs": [
    {
     "name": "stdout",
     "output_type": "stream",
     "text": [
      "\n",
      "NAME\n",
      "    Compare-Object\n",
      "    \n",
      "SYNOPSIS\n",
      "    Compares two sets of objects.\n",
      "    \n",
      "    \n",
      "SYNTAX\n",
      "    Compare-Object [-ReferenceObject] <System.Management.Automation.PSObject[]> \n",
      "    [-DifferenceObject] <System.Management.Automation.PSObject[]> [-CaseSensitive] [-Culture \n",
      "    <System.String>] [-ExcludeDifferent] [-IncludeEqual] [-PassThru] [-Property <System.Object[]>] \n",
      "    [-SyncWindow <System.Int32>] [<CommonParameters>]\n",
      "    \n",
      "    \n",
      "DESCRIPTION\n",
      "    The `Compare-Object` cmdlet compares two sets of objects. One set of objects is the reference \n",
      "    , and the other set of objects is the difference .\n",
      "    \n",
      "    `Compare-Object` checks for available methods of comparing a whole object. If it can't find a \n",
      "    suitable method, it calls the ToString() methods of the input objects and compares the string \n",
      "    results. You can provide one or more properties to be used for comparison. When properties are \n",
      "    provided, the cmdlet compares the values of those properties only.\n",
      "    \n",
      "    The result of the comparison indicates whether a property value appeared only in the reference \n",
      "    object (`<=`) or only in the difference object (`=>`). If the IncludeEqual parameter is used, \n",
      "    (`==`) indicates the value is in both objects.\n",
      "    \n",
      "    If the reference or the difference objects are null (`$null`), `Compare-Object` generates a \n",
      "    terminating error.\n",
      "    \n",
      "    Some examples use splatting to reduce the line length of the code samples. For more \n",
      "    information, see about_Splatting (../Microsoft.PowerShell.Core/About/about_Splatting.md).\n",
      "    \n",
      "\n",
      "RELATED LINKS\n",
      "    Online Version: https://docs.microsoft.com/powershell/module/microsoft.powershell.utility/compa\n",
      "    re-object?view=powershell-7.2&WT.mc_id=ps-gethelp\n",
      "    about_Calculated_Properties \n",
      "    ForEach-Object \n",
      "    Group-Object \n",
      "    Measure-Object \n",
      "    New-Object \n",
      "    Select-Object \n",
      "    Sort-Object \n",
      "    Tee-Object \n",
      "    Where-Object \n",
      "    Get-Process \n",
      "\n",
      "REMARKS\n",
      "    To see the examples, type: \"Get-Help Compare-Object -Examples\"\n",
      "    For more information, type: \"Get-Help Compare-Object -Detailed\"\n",
      "    For technical information, type: \"Get-Help Compare-Object -Full\"\n",
      "    For online help, type: \"Get-Help Compare-Object -Online\"\n",
      "\n"
     ]
    }
   ],
   "source": [
    "Get-Help Compare-Object"
   ]
  },
  {
   "attachments": {},
   "cell_type": "markdown",
   "metadata": {},
   "source": [
    "Pretty easy to follow, Compares two sets of objects.  One object is the reference, the other object is the difference.\n",
    "\n",
    "Keep an eye on that second paragraph, we'll talk about that again.\n",
    "\n",
    "`Compare-Object` checks for available methods of comparing a whole object. If it can't find a \n",
    "    suitable method, it calls the ToString() methods of the input objects and compares the string \n",
    "    results."
   ]
  },
  {
   "cell_type": "code",
   "execution_count": 14,
   "metadata": {
    "dotnet_interactive": {
     "language": "pwsh"
    },
    "polyglot_notebook": {
     "kernelName": "pwsh"
    }
   },
   "outputs": [
    {
     "name": "stdout",
     "output_type": "stream",
     "text": [
      "Apples\n",
      "Oranges\n",
      "Bananas\n",
      "Peaches\n",
      "Lemons\n",
      "Limes\n"
     ]
    }
   ],
   "source": [
    "get-content -Path \"Store1.txt\"\n"
   ]
  },
  {
   "cell_type": "code",
   "execution_count": 15,
   "metadata": {
    "dotnet_interactive": {
     "language": "pwsh"
    },
    "polyglot_notebook": {
     "kernelName": "pwsh"
    }
   },
   "outputs": [
    {
     "name": "stdout",
     "output_type": "stream",
     "text": [
      "Apples\n",
      "Oranges\n",
      "Lemons\n",
      "Limes\n",
      "Grapes\n",
      "Tomatoes\n"
     ]
    }
   ],
   "source": [
    "get-content -Path \"Store2.txt\""
   ]
  },
  {
   "cell_type": "code",
   "execution_count": 16,
   "metadata": {
    "dotnet_interactive": {
     "language": "pwsh"
    }
   },
   "outputs": [
    {
     "name": "stdout",
     "output_type": "stream",
     "text": [
      "\n",
      "\u001b[32;1mInputObject SideIndicator\u001b[0m\n",
      "\u001b[32;1m----------- -------------\u001b[0m\n",
      "Grapes      =>\n",
      "Tomatoes    =>\n",
      "Bananas     <=\n",
      "Peaches     <=\n",
      "\n"
     ]
    }
   ],
   "source": [
    "Compare-Object -ReferenceObject (get-content -Path \"Store1.txt\") -DifferenceObject (get-content -Path \"Store2.txt\")"
   ]
  },
  {
   "attachments": {},
   "cell_type": "markdown",
   "metadata": {},
   "source": [
    "The \"=>\" SideIndicator is showing that these items are in the Difference Object (Store2), and not in the Reference Object (Store 1)\n",
    "\n",
    "The \"<=\" SideIndicator is showing the opposite, so these items are in the Reference Object (Store 1) but not in the Different Object (Store 2)"
   ]
  },
  {
   "cell_type": "code",
   "execution_count": 17,
   "metadata": {
    "dotnet_interactive": {
     "language": "pwsh"
    }
   },
   "outputs": [
    {
     "name": "stdout",
     "output_type": "stream",
     "text": [
      "\n",
      "\u001b[32;1mInputObject SideIndicator\u001b[0m\n",
      "\u001b[32;1m----------- -------------\u001b[0m\n",
      "Apples      ==\n",
      "Oranges     ==\n",
      "Lemons      ==\n",
      "Limes       ==\n",
      "\n"
     ]
    }
   ],
   "source": [
    "Compare-Object -ReferenceObject (get-content -Path \"Store1.txt\") -DifferenceObject (get-content -Path \"Store2.txt\") -ExcludeDifferent"
   ]
  },
  {
   "attachments": {},
   "cell_type": "markdown",
   "metadata": {},
   "source": [
    "Using the -ExcludeDifferent parameter shows only the items that are the same in both objects.  Notice the indicator is now a \"==\".\n",
    "And, if there's a -ExcludeDifferent Parameter, there must be a -IncludeEqual parameter, right?"
   ]
  },
  {
   "cell_type": "code",
   "execution_count": 18,
   "metadata": {
    "dotnet_interactive": {
     "language": "pwsh"
    }
   },
   "outputs": [
    {
     "name": "stdout",
     "output_type": "stream",
     "text": [
      "\n",
      "\u001b[32;1mInputObject SideIndicator\u001b[0m\n",
      "\u001b[32;1m----------- -------------\u001b[0m\n",
      "Apples      ==\n",
      "Oranges     ==\n",
      "Lemons      ==\n",
      "Limes       ==\n",
      "Grapes      =>\n",
      "Tomatoes    =>\n",
      "Bananas     <=\n",
      "Peaches     <=\n",
      "\n"
     ]
    }
   ],
   "source": [
    "Compare-Object -ReferenceObject (get-content -Path \"Store1.txt\") -DifferenceObject (get-content -Path \"Store2.txt\") -IncludeEqual"
   ]
  },
  {
   "attachments": {},
   "cell_type": "markdown",
   "metadata": {},
   "source": [
    "Yep!  -IncludeEqual shows you the items that are not in each object, as well as the ones that are in each.\n",
    "\n",
    "So how about comparing properties from different object types?  Do we dare?!  Sure, why not..."
   ]
  },
  {
   "cell_type": "code",
   "execution_count": 19,
   "metadata": {
    "dotnet_interactive": {
     "language": "pwsh"
    },
    "polyglot_notebook": {
     "kernelName": "pwsh"
    }
   },
   "outputs": [
    {
     "name": "stdout",
     "output_type": "stream",
     "text": [
      "Get-ServiceUsingParameterFile.ps1\n",
      "LICENSE\n",
      "README.md\n",
      "ScriptParameters.ps1\n",
      "services.csv\n",
      "services.json\n",
      "PowerShellParameterBindingExploration.ipynb\n",
      "Test-ValueFromPipelineBehavior_withParamSet.ps1\n",
      "ObjectPropertyFormatChange.ipynb\n",
      "ObjectPropertyFormatting.ipynb\n",
      "ArrayOfStrings.json\n",
      "Test-JSONInput-noName.ps1\n"
     ]
    }
   ],
   "source": [
    "get-content -Path \"./FileNames.txt\""
   ]
  },
  {
   "cell_type": "code",
   "execution_count": 7,
   "metadata": {
    "dotnet_interactive": {
     "language": "pwsh"
    },
    "polyglot_notebook": {
     "kernelName": "pwsh"
    }
   },
   "outputs": [
    {
     "name": "stdout",
     "output_type": "stream",
     "text": [
      "\n",
      "\u001b[32;1mInputObject                                                          SideIndicator\u001b[0m\n",
      "\u001b[32;1m-----------                                                          -------------\u001b[0m\n",
      "Get-ServiceUsingParameterFile.ps1                                    =>\n",
      "LICENSE                                                              =>\n",
      "README.md                                                            =>\n",
      "ScriptParameters.ps1                                                 =>\n",
      "services.csv                                                         =>\n",
      "Store1.txt                                                           =>\n",
      "services.json                                                        =>\n",
      "PowerShellParameterBindingExploration.ipynb                          =>\n",
      "Test-ValueFromPipelineBehavior_withParamSet.ps1                      =>\n",
      "ObjectPropertyFormatChange.ipynb                                     =>\n",
      "ObjectPropertyFormatting.ipynb                                       =>\n",
      "ArrayOfStrings.json                                                  =>\n",
      "Test-JSONInput-noName.ps1                                            =>\n",
      "/Users/V0X9585/AutomationEducation/Get-ServiceUsingParameterFile.ps1 <=\n",
      "/Users/V0X9585/AutomationEducation/LICENSE                           <=\n",
      "/Users/V0X9585/AutomationEducation/README.md                         <=\n",
      "/Users/V0X9585/AutomationEducation/ScriptParameters.ps1              <=\n",
      "/Users/V0X9585/AutomationEducation/services.csv                      <=\n",
      "/Users/V0X9585/AutomationEducation/services.json                     <=\n",
      "\n"
     ]
    }
   ],
   "source": [
    "Compare-Object -ReferenceObject (Get-ChildItem -File -Path /Users/V0X9585/AutomationEducation/) `\n",
    "-DifferenceObject (get-content -Path \"/Users/V0X9585/AutomationEducation/Compare-Object/FileNames.txt\") -IncludeEqual"
   ]
  },
  {
   "attachments": {},
   "cell_type": "markdown",
   "metadata": {},
   "source": [
    "That didn't seem to work like we expected?\n",
    "\n",
    "Remmeber when Get-Help told us that Compare-Object will try to find a method on the object to use in the comparision, but will execute the ToString method on the object if it can't?"
   ]
  },
  {
   "cell_type": "code",
   "execution_count": 23,
   "metadata": {
    "dotnet_interactive": {
     "language": "pwsh"
    },
    "polyglot_notebook": {
     "kernelName": "pwsh"
    }
   },
   "outputs": [
    {
     "name": "stdout",
     "output_type": "stream",
     "text": [
      "/Users/V0X9585/AutomationEducation/Compare-Object/Compare-Object-Examples.ipynb\n",
      "/Users/V0X9585/AutomationEducation/Compare-Object/FileNames.txt\n",
      "/Users/V0X9585/AutomationEducation/Compare-Object/Store1.txt\n",
      "/Users/V0X9585/AutomationEducation/Compare-Object/Store2.txt\n"
     ]
    }
   ],
   "source": [
    "(Get-ChildItem -File) | ForEach-Object{$_.ToString()} "
   ]
  },
  {
   "attachments": {},
   "cell_type": "markdown",
   "metadata": {},
   "source": [
    "So we have a string from Get-ChildItem of the filename with path, and we're trying to compare it to just the filename from our text file.\n",
    "In this case, we need to make sure the -ReferenceObject is the same as what we are looking for.  So we tell Get-ChildItem to give us just the Name of the file in the cmdlet's output."
   ]
  },
  {
   "cell_type": "code",
   "execution_count": 8,
   "metadata": {
    "dotnet_interactive": {
     "language": "pwsh"
    },
    "polyglot_notebook": {
     "kernelName": "pwsh"
    }
   },
   "outputs": [
    {
     "name": "stdout",
     "output_type": "stream",
     "text": [
      "\n",
      "\u001b[32;1mInputObject                                     SideIndicator\u001b[0m\n",
      "\u001b[32;1m-----------                                     -------------\u001b[0m\n",
      "Get-ServiceUsingParameterFile.ps1               ==\n",
      "LICENSE                                         ==\n",
      "README.md                                       ==\n",
      "ScriptParameters.ps1                            ==\n",
      "services.csv                                    ==\n",
      "services.json                                   ==\n",
      "PowerShellParameterBindingExploration.ipynb     ==\n",
      "Test-ValueFromPipelineBehavior_withParamSet.ps1 ==\n",
      "Store1.txt                                      ==\n",
      "ObjectPropertyFormatChange.ipynb                ==\n",
      "ObjectPropertyFormatting.ipynb                  ==\n",
      "ArrayOfStrings.json                             ==\n",
      "Test-JSONInput-noName.ps1                       ==\n",
      "Test-ValueFromPipelineBehavior.ps1              <=\n",
      "Calculated-Properties.ps1                       <=\n",
      "All-FileNames-T2.csv                            <=\n",
      "All-FileNames.csv                               <=\n",
      "All-FileNames.txt                               <=\n",
      "Compare-Object-Examples.ipynb                   <=\n",
      "FileNames.txt                                   <=\n",
      "Store2.txt                                      <=\n",
      "SwitchStatementLearnings.ipynb                  <=\n",
      "Sample-ArgumentCompletions.ps1                  <=\n",
      "ipConfig.json                                   <=\n",
      "ipconfig.psd1                                   <=\n",
      "ipconfig.psm1                                   <=\n",
      "\n"
     ]
    }
   ],
   "source": [
    "Compare-Object -ReferenceObject (Get-Childitem -File -Path \"/Users/V0X9585/AutomationEducation/\" -recurse| `\n",
    "Select-Object -expand Name) -DifferenceObject (get-content -Path \"/Users/V0X9585/AutomationEducation/Compare-Object/FileNames.txt\") -IncludeEqual"
   ]
  },
  {
   "attachments": {},
   "cell_type": "markdown",
   "metadata": {},
   "source": [
    "And there we go.  The SideIndicator of \"==\" shows us the files that we found in the directories that match what we have in our supplied text file.\n",
    "\n",
    "Huzzah!!\n",
    "\n",
    "Now let's look at comparing object properties by Parameter!"
   ]
  },
  {
   "cell_type": "code",
   "execution_count": 11,
   "metadata": {
    "dotnet_interactive": {
     "language": "pwsh"
    },
    "polyglot_notebook": {
     "kernelName": "pwsh"
    }
   },
   "outputs": [
    {
     "name": "stdout",
     "output_type": "stream",
     "text": [
      "\n",
      "\u001b[32;1mPSPath              : \u001b[0mMicrosoft.PowerShell.Core\\FileSystem::/Users/V0X9585/AutomationEducation/Get-\n",
      "                      ServiceUsingParameterFile.ps1\n",
      "\u001b[32;1mPSParentPath        : \u001b[0mMicrosoft.PowerShell.Core\\FileSystem::/Users/V0X9585/AutomationEducation\n",
      "\u001b[32;1mPSChildName         : \u001b[0mGet-ServiceUsingParameterFile.ps1\n",
      "\u001b[32;1mUnixStat            : \u001b[0mSystem.Management.Automation.Platform+Unix+CommonStat\n",
      "\u001b[32;1mPSDrive             : \u001b[0m/\n",
      "\u001b[32;1mPSProvider          : \u001b[0mMicrosoft.PowerShell.Core\\FileSystem\n",
      "\u001b[32;1mPSIsContainer       : \u001b[0mFalse\n",
      "\u001b[32;1mUnixMode            : \u001b[0m-rw-r--r--\n",
      "\u001b[32;1mUser                : \u001b[0mV0X9585\n",
      "\u001b[32;1mGroup               : \u001b[0mstaff\n",
      "\u001b[32;1mSize                : \u001b[0m242\n",
      "\u001b[32;1mMode                : \u001b[0m-----\n",
      "\u001b[32;1mModeWithoutHardLink : \u001b[0m-----\n",
      "\u001b[32;1mVersionInfo         : \u001b[0mFile:             \n",
      "                      /Users/V0X9585/AutomationEducation/Get-ServiceUsingParameterFile.ps1\n",
      "                      InternalName:     \n",
      "                      OriginalFilename: \n",
      "                      FileVersion:      \n",
      "                      FileDescription:  \n",
      "                      Product:          \n",
      "                      ProductVersion:   \n",
      "                      Debug:            False\n",
      "                      Patched:          False\n",
      "                      PreRelease:       False\n",
      "                      PrivateBuild:     False\n",
      "                      SpecialBuild:     False\n",
      "                      Language:         \n",
      "                      \n",
      "\u001b[32;1mBaseName            : \u001b[0mGet-ServiceUsingParameterFile\n",
      "\u001b[32;1mResolvedTarget      : \u001b[0m/Users/V0X9585/AutomationEducation/Get-ServiceUsingParameterFile.ps1\n",
      "\u001b[32;1mTarget              : \u001b[0m\n",
      "\u001b[32;1mLinkType            : \u001b[0m\n",
      "\u001b[32;1mLength              : \u001b[0m242\n",
      "\u001b[32;1mDirectoryName       : \u001b[0m/Users/V0X9585/AutomationEducation\n",
      "\u001b[32;1mDirectory           : \u001b[0m/Users/V0X9585/AutomationEducation\n",
      "\u001b[32;1mIsReadOnly          : \u001b[0mFalse\n",
      "\u001b[32;1mFullName            : \u001b[0m/Users/V0X9585/AutomationEducation/Get-ServiceUsingParameterFile.ps1\n",
      "\u001b[32;1mExtension           : \u001b[0m.ps1\n",
      "\u001b[32;1mName                : \u001b[0mGet-ServiceUsingParameterFile.ps1\n",
      "\u001b[32;1mExists              : \u001b[0mTrue\n",
      "\u001b[32;1mCreationTime        : \u001b[0m9/1/2022 11:30:57 AM\n",
      "\u001b[32;1mCreationTimeUtc     : \u001b[0m9/1/2022 3:30:57 PM\n",
      "\u001b[32;1mLastAccessTime      : \u001b[0m1/30/2023 1:36:04 PM\n",
      "\u001b[32;1mLastAccessTimeUtc   : \u001b[0m1/30/2023 6:36:04 PM\n",
      "\u001b[32;1mLastWriteTime       : \u001b[0m9/1/2022 11:30:57 AM\n",
      "\u001b[32;1mLastWriteTimeUtc    : \u001b[0m9/1/2022 3:30:57 PM\n",
      "\u001b[32;1mLinkTarget          : \u001b[0m\n",
      "\u001b[32;1mUnixFileMode        : \u001b[0mOtherRead, GroupRead, UserWrite, UserRead\n",
      "\u001b[32;1mAttributes          : \u001b[0mNormal\n",
      "\n",
      "\n"
     ]
    }
   ],
   "source": [
    "Import-CSV -Path ./All-FileNames.csv | select-object -first 1"
   ]
  },
  {
   "cell_type": "code",
   "execution_count": 1,
   "metadata": {
    "dotnet_interactive": {
     "language": "pwsh"
    },
    "polyglot_notebook": {
     "kernelName": "pwsh"
    }
   },
   "outputs": [
    {
     "name": "stdout",
     "output_type": "stream",
     "text": [
      "\n",
      "\u001b[32;1mBasename                                    SideIndicator\u001b[0m\n",
      "\u001b[32;1m--------                                    -------------\u001b[0m\n",
      "Test-ValueFromPipelineBehavior_withParamSet <=\n",
      "Test-ValueFromPipelineBehavior              <=\n",
      "Calculated-Properties                       <=\n",
      "All-FileNames                               <=\n",
      "All-FileNames                               <=\n",
      "Compare-Object-Examples                     <=\n",
      "FileNames                                   <=\n",
      "Store1                                      <=\n",
      "Store2                                      <=\n",
      "\n"
     ]
    }
   ],
   "source": [
    "Compare-Object -ReferenceObject (import-csv ./All-FileNames.csv) -DifferenceObject (import-csv ./All-FileNames-T2.csv) -Property Basename"
   ]
  },
  {
   "cell_type": "code",
   "execution_count": 2,
   "metadata": {
    "dotnet_interactive": {
     "language": "pwsh"
    },
    "polyglot_notebook": {
     "kernelName": "pwsh"
    }
   },
   "outputs": [
    {
     "name": "stdout",
     "output_type": "stream",
     "text": [
      "\n",
      "\u001b[32;1mBasename                                    Attributes SideIndicator\u001b[0m\n",
      "\u001b[32;1m--------                                    ---------- -------------\u001b[0m\n",
      "PowerShellParameterBindingExploration       AbbyNormal =>\n",
      "ObjectPropertyFormatChange                  AbbyNormal =>\n",
      "PowerShellParameterBindingExploration       Normal     <=\n",
      "Test-ValueFromPipelineBehavior_withParamSet Normal     <=\n",
      "Test-ValueFromPipelineBehavior              Normal     <=\n",
      "Calculated-Properties                       Normal     <=\n",
      "All-FileNames                               Normal     <=\n",
      "All-FileNames                               Normal     <=\n",
      "Compare-Object-Examples                     Normal     <=\n",
      "FileNames                                   Normal     <=\n",
      "Store1                                      Normal     <=\n",
      "Store2                                      Normal     <=\n",
      "ObjectPropertyFormatChange                  Normal     <=\n",
      "\n"
     ]
    }
   ],
   "source": [
    "Compare-Object -ReferenceObject (import-csv ./All-FileNames.csv) -DifferenceObject (import-csv ./All-FileNames-T2.csv) -Property Basename,Attributes"
   ]
  }
 ],
 "metadata": {
  "kernelspec": {
   "display_name": ".NET (C#)",
   "language": "C#",
   "name": ".net-csharp"
  },
  "language_info": {
   "name": "polyglot-notebook"
  },
  "polyglot_notebook": {
   "kernelInfo": {
    "defaultKernelName": "csharp",
    "items": [
     {
      "aliases": [],
      "name": ".NET"
     },
     {
      "aliases": [
       "C#",
       "c#"
      ],
      "languageName": "C#",
      "name": "csharp"
     },
     {
      "aliases": [
       "F#",
       "f#"
      ],
      "languageName": "F#",
      "name": "fsharp"
     },
     {
      "aliases": [],
      "languageName": "HTML",
      "name": "html"
     },
     {
      "aliases": [
       "js"
      ],
      "languageName": "JavaScript",
      "name": "javascript"
     },
     {
      "aliases": [],
      "languageName": "KQL",
      "name": "kql"
     },
     {
      "aliases": [],
      "languageName": "Mermaid",
      "name": "mermaid"
     },
     {
      "aliases": [
       "powershell"
      ],
      "languageName": "PowerShell",
      "name": "pwsh"
     },
     {
      "aliases": [],
      "languageName": "SQL",
      "name": "sql"
     },
     {
      "aliases": [],
      "name": "value"
     },
     {
      "aliases": [
       "frontend"
      ],
      "name": "vscode"
     },
     {
      "aliases": [],
      "name": "webview"
     }
    ]
   }
  }
 },
 "nbformat": 4,
 "nbformat_minor": 2
}

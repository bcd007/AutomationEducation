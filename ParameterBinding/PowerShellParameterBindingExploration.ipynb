{
 "cells": [
  {
   "cell_type": "markdown",
   "metadata": {},
   "source": [
    "# PowerShell Parameter Binding\n",
    "What: Things that dictate parameter binding in cmdlets and advanced functions\n",
    "- Does the given parameter take pipeline input by either value or property name?\n",
    "- The _Type_ of either pipeline object or property of object for ByPropertyName\n",
    "- can pipeline object/property be cast (\"coerced\") into the type of the parameter?\n",
    "- `ParameterSet` -- what `ParameterSet` is in play, and which parameters therein are primed to accept value from pipeline?\n",
    "\n",
    "Here we will observe how PowerShell handles Parameter Binding through some examples with a couple of cmdlets, and of a couple of variations of a script. Will will nspect the parameters, and then trace how the binding happens:\n",
    "- `Get-Service`\n",
    "- `Import-Module`\n",
    "- `.\\Test-ValueFromPipeline.ps1`"
   ]
  },
  {
   "cell_type": "markdown",
   "metadata": {},
   "source": [
    "## Examples\n",
    "A few examples to see where things get bound\n",
    "\n",
    "### `Get-Service` Example\n",
    "\n",
    "First, let's look at the parameters of the cmdlet `Get-Service`."
   ]
  },
  {
   "cell_type": "code",
   "execution_count": 31,
   "metadata": {
    "dotnet_interactive": {
     "language": "pwsh"
    }
   },
   "outputs": [
    {
     "name": "stdout",
     "output_type": "stream",
     "text": [
      "\n",
      "name              pipelineInput                  position type\n",
      "----              -------------                  -------- ----\n",
      "DependentServices False                          named    System.Management.Automation.SwitchParam…\n",
      "DisplayName       False                          named    System.String[]\n",
      "Exclude           False                          named    System.String[]\n",
      "Include           False                          named    System.String[]\n",
      "InputObject       True (ByValue)                 named    System.ServiceProcess.ServiceController[]\n",
      "Name              True (ByPropertyName, ByValue) 0        System.String[]\n",
      "RequiredServices  False                          named    System.Management.Automation.SwitchParam…\n",
      "\n"
     ]
    }
   ],
   "source": [
    "Get-Help -Parameter * -Name Get-Service | Format-Table -Property name, pipelineInput, position, @{n=\"type\"; e={$_.Type.Name}}"
   ]
  },
  {
   "cell_type": "markdown",
   "metadata": {},
   "source": [
    "We see that two of the parameters (`InputObject`, `-Name`) take pipeline input `ByValue` (the whole object), and one parameter (`-Name`) takes pipeline input `ByPropertyName` (if the pipeline object has a property named `Name`).\r\n",
    "\r\n",
    "So, let's see what the behavior is when we pipe a `String` object to the `Get-Service` cmdlet, and determine the parameter to which this object is bound. Aside: Here we're using the `Trace-Command` cmdlet (from the stock module `Microsoft.PowerShell.Utility` that comes with PowerShell). This cmdlet has a multitude of uses, just one of which is to trace the ParameterBinding aspects of an expression"
   ]
  },
  {
   "cell_type": "code",
   "execution_count": 32,
   "metadata": {},
   "outputs": [
    {
     "name": "stdout",
     "output_type": "stream",
     "text": [
      "\u001b[93mDEBUG: 2021-09-13 17:21:44.6876 ParameterBinderController Information: 0 :  WriteLine   Argument count: 0\u001b[0m\n",
      "DEBUG: 2021-09-13 17:21:44.6890 ParameterBinding Information: 0 : BIND NAMED cmd line args [Get-Service]\n",
      "DEBUG: 2021-09-13 17:21:44.6895 ParameterBinding Information: 0 : BIND POSITIONAL cmd line args [Get-Service]\n",
      "\u001b[93mDEBUG: 2021-09-13 17:21:44.6897 ParameterBinderController Information: 0 :  WriteLine   CurrentParameterSetName = Default\u001b[0m\n",
      "\u001b[93mDEBUG: 2021-09-13 17:21:44.6899 ParameterBinderController Information: 0 :  WriteLine   CurrentParameterSetName = Default\u001b[0m\n",
      "DEBUG: 2021-09-13 17:21:44.6900 ParameterBinding Information: 0 : MANDATORY PARAMETER CHECK on cmdlet [Get-Service]\n",
      "\u001b[93mDEBUG: 2021-09-13 17:21:44.6902 ParameterBinding Information: 0 : CALLING BeginProcessing\u001b[0m\n",
      "DEBUG: 2021-09-13 17:21:44.6903 ParameterBinding Information: 0 : BIND PIPELINE object to parameters: [Get-Service]\n",
      "DEBUG: 2021-09-13 17:21:44.6905 ParameterBinding Information: 0 :     PIPELINE object TYPE = [System.String]\n",
      "\u001b[93mDEBUG: 2021-09-13 17:21:44.6907 ParameterBinding Information: 0 :     RESTORING pipeline parameter's original values\u001b[0m\n",
      "DEBUG: 2021-09-13 17:21:44.6908 ParameterBinding Information: 0 :     Parameter [Name] PIPELINE INPUT ValueFromPipeline NO COERCION\n",
      "\u001b[93mDEBUG: 2021-09-13 17:21:44.6910 ParameterBinderController Information: 0 :  WriteLine       Adding PipelineParameter name=Name; value=WebClient\u001b[0m\n",
      "DEBUG: 2021-09-13 17:21:44.6918 ParameterBinding Information: 0 :     BIND arg [WebClient] to parameter [Name]\n",
      "DEBUG: 2021-09-13 17:21:44.6922 ParameterBinding Information: 0 :         Binding collection parameter Name: argument type [String], parameter type [System.String[]], collection type Array, element type [System.String], no coerceElementType\n",
      "DEBUG: 2021-09-13 17:21:44.6925 ParameterBinding Information: 0 :         Creating array with element type [System.String] and 1 elements\n",
      "\u001b[93mDEBUG: 2021-09-13 17:21:44.6926 ParameterBinding Information: 0 :         Argument type String is not IList, treating this as scalar\u001b[0m\n",
      "\u001b[93mDEBUG: 2021-09-13 17:21:44.6928 ParameterBinding Information: 0 :         Adding scalar element of type String to array position 0\u001b[0m\n",
      "DEBUG: 2021-09-13 17:21:44.6929 ParameterBinding Information: 0 :         Executing VALIDATION metadata: [System.Management.Automation.ValidateNotNullOrEmptyAttribute]\n",
      "DEBUG: 2021-09-13 17:21:44.6934 ParameterBinding Information: 0 :         BIND arg [System.String[]] to param [Name] SUCCESSFUL\n",
      "\u001b[93mDEBUG: 2021-09-13 17:21:44.6936 ParameterBinderController Information: 0 :  WriteLine       aParameterWasBound = True\u001b[0m\n",
      "\u001b[93mDEBUG: 2021-09-13 17:21:44.6937 ParameterBinderController Information: 0 :  WriteLine       CurrentParameterSetName = Default\u001b[0m\n",
      "\u001b[93mDEBUG: 2021-09-13 17:21:44.6938 ParameterBinderController Information: 0 :  WriteLine       aParameterWasBound = False\u001b[0m\n",
      "\u001b[93mDEBUG: 2021-09-13 17:21:44.6940 ParameterBinderController Information: 0 :  WriteLine       aParameterWasBound = False\u001b[0m\n",
      "\u001b[93mDEBUG: 2021-09-13 17:21:44.6941 ParameterBinderController Information: 0 :  WriteLine       aParameterWasBound = False\u001b[0m\n",
      "\u001b[93mDEBUG: 2021-09-13 17:21:44.6943 ParameterBinderController Information: 0 :  WriteLine       CurrentParameterSetName = Default\u001b[0m\n",
      "DEBUG: 2021-09-13 17:21:44.6944 ParameterBinding Information: 0 : MANDATORY PARAMETER CHECK on cmdlet [Get-Service]\n",
      "\u001b[93mDEBUG: 2021-09-13 17:21:44.7109 ParameterBinding Information: 0 : CALLING EndProcessing\u001b[0m\n",
      "\n",
      "Status   Name               DisplayName\n",
      "------   ----               -----------\n",
      "Stopped  WebClient          WebClient\n",
      "\n"
     ]
    }
   ],
   "source": [
    "Trace-Command -Expression {\"WebClient\" | Get-Service} -Name ParameterBinding, ParameterBinderController -PSHost"
   ]
  },
  {
   "cell_type": "markdown",
   "metadata": {},
   "source": [
    "Among all of that useful debugging information, we see the `SUCCESSFUL` result for the attempt to bind the pipeline object (of type `String`) to `Parameter [Name]`. Cool!\n",
    "\n",
    "Though, the question might arise, \"why did PowerShell bind to `-Name` and not to `-InputObject`, the other parameter that accepts pipeline input `ByValue`?\". Good question. PowerShell uses an object's Type in the binding process, too. Let's see this in action for another example with `Get-Service`, this time with a `ServiceController` object from the pipeline "
   ]
  },
  {
   "cell_type": "code",
   "execution_count": 33,
   "metadata": {},
   "outputs": [
    {
     "name": "stdout",
     "output_type": "stream",
     "text": [
      "\u001b[93mDEBUG: 2021-09-13 17:21:48.7162 ParameterBinderController Information: 0 :  WriteLine   Argument count: 0\u001b[0m\n",
      "DEBUG: 2021-09-13 17:21:48.7165 ParameterBinding Information: 0 : BIND NAMED cmd line args [Get-Service]\n",
      "DEBUG: 2021-09-13 17:21:48.7167 ParameterBinding Information: 0 : BIND POSITIONAL cmd line args [Get-Service]\n",
      "\u001b[93mDEBUG: 2021-09-13 17:21:48.7169 ParameterBinderController Information: 0 :  WriteLine   CurrentParameterSetName = Default\u001b[0m\n",
      "\u001b[93mDEBUG: 2021-09-13 17:21:48.7172 ParameterBinderController Information: 0 :  WriteLine   CurrentParameterSetName = Default\u001b[0m\n",
      "DEBUG: 2021-09-13 17:21:48.7174 ParameterBinding Information: 0 : MANDATORY PARAMETER CHECK on cmdlet [Get-Service]\n",
      "\u001b[93mDEBUG: 2021-09-13 17:21:48.7177 ParameterBinding Information: 0 : CALLING BeginProcessing\u001b[0m\n",
      "DEBUG: 2021-09-13 17:21:48.7179 ParameterBinding Information: 0 : BIND PIPELINE object to parameters: [Get-Service]\n",
      "DEBUG: 2021-09-13 17:21:48.7182 ParameterBinding Information: 0 :     PIPELINE object TYPE = [System.ServiceProcess.ServiceController]\n",
      "\u001b[93mDEBUG: 2021-09-13 17:21:48.7184 ParameterBinding Information: 0 :     RESTORING pipeline parameter's original values\u001b[0m\n",
      "DEBUG: 2021-09-13 17:21:48.7186 ParameterBinding Information: 0 :     Parameter [Name] PIPELINE INPUT ValueFromPipeline NO COERCION\n",
      "\u001b[93mDEBUG: 2021-09-13 17:21:48.7232 ParameterBinderController Information: 0 :  WriteLine       Adding PipelineParameter name=Name; value=WebClient\u001b[0m\n",
      "DEBUG: 2021-09-13 17:21:48.7238 ParameterBinding Information: 0 :     BIND arg [WebClient] to parameter [Name]\n",
      "DEBUG: 2021-09-13 17:21:48.7242 ParameterBinding Information: 0 :         Binding collection parameter Name: argument type [ServiceController], parameter type [System.String[]], collection type Array, element type [System.String], no coerceElementType\n",
      "DEBUG: 2021-09-13 17:21:48.7247 ParameterBinding Information: 0 :         Creating array with element type [System.String] and 1 elements\n",
      "\u001b[93mDEBUG: 2021-09-13 17:21:48.7250 ParameterBinding Information: 0 :         Argument type ServiceController is not IList, treating this as scalar\u001b[0m\n",
      "DEBUG: 2021-09-13 17:21:48.7256 ParameterBinding Information: 0 :         BIND arg [System.ServiceProcess.ServiceController] to param [Name] SKIPPED\n",
      "DEBUG: 2021-09-13 17:21:48.7260 ParameterBinding Information: 0 :     Parameter [InputObject] PIPELINE INPUT ValueFromPipeline NO COERCION\n",
      "\u001b[93mDEBUG: 2021-09-13 17:21:48.7264 ParameterBinderController Information: 0 :  WriteLine       Adding PipelineParameter name=InputObject; value=WebClient\u001b[0m\n",
      "DEBUG: 2021-09-13 17:21:48.7279 ParameterBinding Information: 0 :     BIND arg [WebClient] to parameter [InputObject]\n",
      "DEBUG: 2021-09-13 17:21:48.7287 ParameterBinding Information: 0 :         Binding collection parameter InputObject: argument type [ServiceController], parameter type [System.ServiceProcess.ServiceController[]], collection type Array, element type [System.ServiceProcess.ServiceController], no coerceElementType\n",
      "DEBUG: 2021-09-13 17:21:48.7292 ParameterBinding Information: 0 :         Creating array with element type [System.ServiceProcess.ServiceController] and 1 elements\n",
      "\u001b[93mDEBUG: 2021-09-13 17:21:48.7296 ParameterBinding Information: 0 :         Argument type ServiceController is not IList, treating this as scalar\u001b[0m\n",
      "\u001b[93mDEBUG: 2021-09-13 17:21:48.7302 ParameterBinding Information: 0 :         Adding scalar element of type ServiceController to array position 0\u001b[0m\n",
      "DEBUG: 2021-09-13 17:21:48.7308 ParameterBinding Information: 0 :         Executing VALIDATION metadata: [System.Management.Automation.ValidateNotNullOrEmptyAttribute]\n",
      "DEBUG: 2021-09-13 17:21:48.7315 ParameterBinding Information: 0 :         BIND arg [System.ServiceProcess.ServiceController[]] to param [InputObject] SUCCESSFUL\n",
      "\u001b[93mDEBUG: 2021-09-13 17:21:48.7319 ParameterBinderController Information: 0 :  WriteLine       aParameterWasBound = True\u001b[0m\n",
      "\u001b[93mDEBUG: 2021-09-13 17:21:48.7322 ParameterBinderController Information: 0 :  WriteLine       CurrentParameterSetName = InputObject\u001b[0m\n",
      "\u001b[93mDEBUG: 2021-09-13 17:21:48.7324 ParameterBinderController Information: 0 :  WriteLine       aParameterWasBound = False\u001b[0m\n",
      "\u001b[93mDEBUG: 2021-09-13 17:21:48.7326 ParameterBinderController Information: 0 :  WriteLine       aParameterWasBound = False\u001b[0m\n",
      "\u001b[93mDEBUG: 2021-09-13 17:21:48.7328 ParameterBinderController Information: 0 :  WriteLine       aParameterWasBound = False\u001b[0m\n",
      "\u001b[93mDEBUG: 2021-09-13 17:21:48.7331 ParameterBinderController Information: 0 :  WriteLine       CurrentParameterSetName = InputObject\u001b[0m\n",
      "DEBUG: 2021-09-13 17:21:48.7333 ParameterBinding Information: 0 : MANDATORY PARAMETER CHECK on cmdlet [Get-Service]\n",
      "\u001b[93mDEBUG: 2021-09-13 17:21:48.7370 ParameterBinding Information: 0 : CALLING EndProcessing\u001b[0m\n",
      "\n",
      "Status   Name               DisplayName\n",
      "------   ----               -----------\n",
      "Stopped  WebClient          WebClient\n",
      "\n"
     ]
    }
   ],
   "source": [
    "Trace-Command -Name ParameterBinding, ParameterBinderController -PSHost -Expression {[System.ServiceProcess.ServiceController]::new(\"WebClient\") | Get-Service}"
   ]
  },
  {
   "cell_type": "markdown",
   "metadata": {},
   "source": [
    "Ah-ha! This time PowerShell bound the pipeline object (of type `ServiceController`) to the `-InputObject` parameter successfully. An exmaple of one of the many ways that PowerShell optimizes us, the consumers -- we can pipe things to a cmdlet in several ways, making it most flexible for the variety of situations in which we eventually find ourselves!\n",
    "\n",
    "### `Import-Module` example\n",
    "\n",
    "Alright, another similar example, this time with the `Import-Module` cmdlet, which has several ParameterSets. We should see that the parameter binding considers the pipeline object type and then binds the object value to the corresponding parameter. First, the parameter information for the cmdlet:"
   ]
  },
  {
   "cell_type": "code",
   "execution_count": 34,
   "metadata": {},
   "outputs": [
    {
     "name": "stdout",
     "output_type": "stream",
     "text": [
      "\n",
      "name                 pipelineInput  position type\n",
      "----                 -------------  -------- ----\n",
      "Alias                False          named    @{name=System.String[]; uri=}\n",
      "ArgumentList         False          named    @{name=System.Object[]; uri=}\n",
      "AsCustomObject       False          named    @{name=System.Management.Automation.SwitchParameter; …\n",
      "Assembly             True (ByValue) 0        @{name=System.Reflection.Assembly[]; uri=}\n",
      "CimNamespace         False          named    @{name=System.String; uri=}\n",
      "CimResourceUri       False          named    @{name=System.Uri; uri=}\n",
      "CimSession           False          named    @{name=Microsoft.Management.Infrastructure.CimSession…\n",
      "Cmdlet               False          named    @{name=System.String[]; uri=}\n",
      "DisableNameChecking  False          named    @{name=System.Management.Automation.SwitchParameter; …\n",
      "Force                False          named    @{name=System.Management.Automation.SwitchParameter; …\n",
      "FullyQualifiedName   True (ByValue) 0        @{name=Microsoft.PowerShell.Commands.ModuleSpecificat…\n",
      "Function             False          named    @{name=System.String[]; uri=}\n",
      "Global               False          named    @{name=System.Management.Automation.SwitchParameter; …\n",
      "MaximumVersion       False          named    @{name=System.String; uri=}\n",
      "MinimumVersion       False          named    @{name=System.Version; uri=}\n",
      "ModuleInfo           True (ByValue) 0        @{name=System.Management.Automation.PSModuleInfo[]; u…\n",
      "Name                 True (ByValue) 0        @{name=System.String[]; uri=}\n",
      "NoClobber            False          named    @{name=System.Management.Automation.SwitchParameter; …\n",
      "PassThru             False          named    @{name=System.Management.Automation.SwitchParameter; …\n",
      "Prefix               False          named    @{name=System.String; uri=}\n",
      "PSSession            False          named    @{name=System.Management.Automation.Runspaces.PSSessi…\n",
      "RequiredVersion      False          named    @{name=System.Version; uri=}\n",
      "Scope                False          named    @{name=System.String; uri=}\n",
      "Variable             False          named    @{name=System.String[]; uri=}\n",
      "SkipEditionCheck     False          named    @{name=System.Management.Automation.SwitchParameter; …\n",
      "UseWindowsPowerShell False          named    @{name=System.Management.Automation.SwitchParameter; …\n",
      "\n"
     ]
    }
   ],
   "source": [
    "Get-Help -Parameter * -Name Import-Module | Format-Table -Property name, pipelineInput, position, type"
   ]
  },
  {
   "cell_type": "markdown",
   "metadata": {},
   "source": [
    "So, `-Assembly`, `-FullyQualifiedName`, `-ModuleInfo`, and `-Name`.  Let's see how parameter binding behaves when we pipe in a string object:"
   ]
  },
  {
   "cell_type": "code",
   "execution_count": 2,
   "metadata": {},
   "outputs": [
    {
     "name": "stdout",
     "output_type": "stream",
     "text": [
      "\u001b[93mDEBUG: 2021-09-13 17:22:44.8065 ParameterBinderController Information: 0 :  WriteLine   Argument count: 0\u001b[0m\n",
      "DEBUG: 2021-09-13 17:22:44.8136 ParameterBinding Information: 0 : BIND NAMED cmd line args [Import-Module]\n",
      "DEBUG: 2021-09-13 17:22:44.8143 ParameterBinding Information: 0 : BIND POSITIONAL cmd line args [Import-Module]\n",
      "\u001b[93mDEBUG: 2021-09-13 17:22:44.8147 ParameterBinderController Information: 0 :  WriteLine   CurrentParameterSetName = Name\u001b[0m\n",
      "\u001b[93mDEBUG: 2021-09-13 17:22:44.8150 ParameterBinderController Information: 0 :  WriteLine   CurrentParameterSetName = Name\u001b[0m\n",
      "DEBUG: 2021-09-13 17:22:44.8153 ParameterBinding Information: 0 : MANDATORY PARAMETER CHECK on cmdlet [Import-Module]\n",
      "\u001b[93mDEBUG: 2021-09-13 17:22:44.8156 ParameterBinding Information: 0 : CALLING BeginProcessing\u001b[0m\n",
      "DEBUG: 2021-09-13 17:22:44.8159 ParameterBinding Information: 0 : BIND PIPELINE object to parameters: [Import-Module]\n",
      "DEBUG: 2021-09-13 17:22:44.8162 ParameterBinding Information: 0 :     PIPELINE object TYPE = [System.String]\n",
      "\u001b[93mDEBUG: 2021-09-13 17:22:44.8164 ParameterBinding Information: 0 :     RESTORING pipeline parameter's original values\u001b[0m\n",
      "DEBUG: 2021-09-13 17:22:44.8166 ParameterBinding Information: 0 :     Parameter [Name] PIPELINE INPUT ValueFromPipeline NO COERCION\n",
      "\u001b[93mDEBUG: 2021-09-13 17:22:44.8170 ParameterBinderController Information: 0 :  WriteLine       Adding PipelineParameter name=Name; value=posh-git\u001b[0m\n",
      "DEBUG: 2021-09-13 17:22:44.8173 ParameterBinding Information: 0 :     BIND arg [posh-git] to parameter [Name]\n",
      "DEBUG: 2021-09-13 17:22:44.8176 ParameterBinding Information: 0 :         Binding collection parameter Name: argument type [String], parameter type [System.String[]], collection type Array, element type [System.String], no coerceElementType\n",
      "DEBUG: 2021-09-13 17:22:44.8178 ParameterBinding Information: 0 :         Creating array with element type [System.String] and 1 elements\n",
      "\u001b[93mDEBUG: 2021-09-13 17:22:44.8180 ParameterBinding Information: 0 :         Argument type String is not IList, treating this as scalar\u001b[0m\n",
      "\u001b[93mDEBUG: 2021-09-13 17:22:44.8182 ParameterBinding Information: 0 :         Adding scalar element of type String to array position 0\u001b[0m\n",
      "DEBUG: 2021-09-13 17:22:44.8184 ParameterBinding Information: 0 :         Executing VALIDATION metadata: [System.Management.Automation.ValidateTrustedDataAttribute]\n",
      "DEBUG: 2021-09-13 17:22:44.8185 ParameterBinding Information: 0 :         BIND arg [System.String[]] to param [Name] SUCCESSFUL\n",
      "\u001b[93mDEBUG: 2021-09-13 17:22:44.8188 ParameterBinderController Information: 0 :  WriteLine       aParameterWasBound = True\u001b[0m\n",
      "\u001b[93mDEBUG: 2021-09-13 17:22:44.8189 ParameterBinderController Information: 0 :  WriteLine       CurrentParameterSetName = Name\u001b[0m\n",
      "\u001b[93mDEBUG: 2021-09-13 17:22:44.8191 ParameterBinderController Information: 0 :  WriteLine       aParameterWasBound = False\u001b[0m\n",
      "\u001b[93mDEBUG: 2021-09-13 17:22:44.8193 ParameterBinderController Information: 0 :  WriteLine       aParameterWasBound = False\u001b[0m\n",
      "\u001b[93mDEBUG: 2021-09-13 17:22:44.8195 ParameterBinderController Information: 0 :  WriteLine       aParameterWasBound = False\u001b[0m\n",
      "\u001b[93mDEBUG: 2021-09-13 17:22:44.8196 ParameterBinderController Information: 0 :  WriteLine       CurrentParameterSetName = Name\u001b[0m\n",
      "DEBUG: 2021-09-13 17:22:44.8198 ParameterBinding Information: 0 : MANDATORY PARAMETER CHECK on cmdlet [Import-Module]\n",
      "\u001b[93mDEBUG: 2021-09-13 17:22:44.8407 ParameterBinding Information: 0 : CALLING EndProcessing\u001b[0m\n"
     ]
    }
   ],
   "source": [
    "Trace-Command -Name ParameterBinding, ParameterBinderController -PSHost -Expression {\"posh-git\" | Import-Module}"
   ]
  },
  {
   "cell_type": "markdown",
   "metadata": {},
   "source": [
    "Alright, as expected -- we piped in a String object, and PowerShell bound that string to the parameter that accepts pipeline input by value, and expects a String object. Great.\n",
    "\n",
    "How about if we try piping in a ModuleSpecification object? We'd surely see PowerShell bind that object to the parameter that accepts pipeline input by value, and expects a ModuleSpecification object, right? Let's find out:"
   ]
  },
  {
   "cell_type": "code",
   "execution_count": 3,
   "metadata": {},
   "outputs": [
    {
     "name": "stdout",
     "output_type": "stream",
     "text": [
      "\u001b[93mDEBUG: 2021-09-13 17:22:48.6086 ParameterBinderController Information: 0 :  WriteLine   Argument count: 0\u001b[0m\n",
      "DEBUG: 2021-09-13 17:22:48.6090 ParameterBinding Information: 0 : BIND NAMED cmd line args [Import-Module]\n",
      "DEBUG: 2021-09-13 17:22:48.6092 ParameterBinding Information: 0 : BIND POSITIONAL cmd line args [Import-Module]\n",
      "\u001b[93mDEBUG: 2021-09-13 17:22:48.6094 ParameterBinderController Information: 0 :  WriteLine   CurrentParameterSetName = Name\u001b[0m\n",
      "\u001b[93mDEBUG: 2021-09-13 17:22:48.6096 ParameterBinderController Information: 0 :  WriteLine   CurrentParameterSetName = Name\u001b[0m\n",
      "DEBUG: 2021-09-13 17:22:48.6098 ParameterBinding Information: 0 : MANDATORY PARAMETER CHECK on cmdlet [Import-Module]\n",
      "\u001b[93mDEBUG: 2021-09-13 17:22:48.6100 ParameterBinding Information: 0 : CALLING BeginProcessing\u001b[0m\n",
      "DEBUG: 2021-09-13 17:22:48.6102 ParameterBinding Information: 0 : BIND PIPELINE object to parameters: [Import-Module]\n",
      "DEBUG: 2021-09-13 17:22:48.6105 ParameterBinding Information: 0 :     PIPELINE object TYPE = [Microsoft.PowerShell.Commands.ModuleSpecification]\n",
      "\u001b[93mDEBUG: 2021-09-13 17:22:48.6107 ParameterBinding Information: 0 :     RESTORING pipeline parameter's original values\u001b[0m\n",
      "DEBUG: 2021-09-13 17:22:48.6109 ParameterBinding Information: 0 :     Parameter [Name] PIPELINE INPUT ValueFromPipeline NO COERCION\n",
      "\u001b[93mDEBUG: 2021-09-13 17:22:48.6123 ParameterBinderController Information: 0 :  WriteLine       Adding PipelineParameter name=Name; value=posh-git\u001b[0m\n",
      "DEBUG: 2021-09-13 17:22:48.6125 ParameterBinding Information: 0 :     BIND arg [posh-git] to parameter [Name]\n",
      "DEBUG: 2021-09-13 17:22:48.6127 ParameterBinding Information: 0 :         Binding collection parameter Name: argument type [ModuleSpecification], parameter type [System.String[]], collection type Array, element type [System.String], no coerceElementType\n",
      "DEBUG: 2021-09-13 17:22:48.6129 ParameterBinding Information: 0 :         Creating array with element type [System.String] and 1 elements\n",
      "\u001b[93mDEBUG: 2021-09-13 17:22:48.6131 ParameterBinding Information: 0 :         Argument type ModuleSpecification is not IList, treating this as scalar\u001b[0m\n",
      "DEBUG: 2021-09-13 17:22:48.6134 ParameterBinding Information: 0 :         BIND arg [posh-git] to param [Name] SKIPPED\n",
      "DEBUG: 2021-09-13 17:22:48.6136 ParameterBinding Information: 0 :     Parameter [ModuleInfo] PIPELINE INPUT ValueFromPipeline NO COERCION\n",
      "\u001b[93mDEBUG: 2021-09-13 17:22:48.6140 ParameterBinderController Information: 0 :  WriteLine       Adding PipelineParameter name=ModuleInfo; value=posh-git\u001b[0m\n",
      "DEBUG: 2021-09-13 17:22:48.6151 ParameterBinding Information: 0 :     BIND arg [posh-git] to parameter [ModuleInfo]\n",
      "DEBUG: 2021-09-13 17:22:48.6154 ParameterBinding Information: 0 :         Binding collection parameter ModuleInfo: argument type [ModuleSpecification], parameter type [System.Management.Automation.PSModuleInfo[]], collection type Array, element type [System.Management.Automation.PSModuleInfo], no coerceElementType\n",
      "DEBUG: 2021-09-13 17:22:48.6156 ParameterBinding Information: 0 :         Creating array with element type [System.Management.Automation.PSModuleInfo] and 1 elements\n",
      "\u001b[93mDEBUG: 2021-09-13 17:22:48.6159 ParameterBinding Information: 0 :         Argument type ModuleSpecification is not IList, treating this as scalar\u001b[0m\n",
      "DEBUG: 2021-09-13 17:22:48.6165 ParameterBinding Information: 0 :         BIND arg [posh-git] to param [ModuleInfo] SKIPPED\n",
      "DEBUG: 2021-09-13 17:22:48.6167 ParameterBinding Information: 0 :     Parameter [Assembly] PIPELINE INPUT ValueFromPipeline NO COERCION\n",
      "\u001b[93mDEBUG: 2021-09-13 17:22:48.6170 ParameterBinderController Information: 0 :  WriteLine       Adding PipelineParameter name=Assembly; value=posh-git\u001b[0m\n",
      "DEBUG: 2021-09-13 17:22:48.6178 ParameterBinding Information: 0 :     BIND arg [posh-git] to parameter [Assembly]\n",
      "DEBUG: 2021-09-13 17:22:48.6181 ParameterBinding Information: 0 :         Binding collection parameter Assembly: argument type [ModuleSpecification], parameter type [System.Reflection.Assembly[]], collection type Array, element type [System.Reflection.Assembly], no coerceElementType\n",
      "DEBUG: 2021-09-13 17:22:48.6183 ParameterBinding Information: 0 :         Creating array with element type [System.Reflection.Assembly] and 1 elements\n",
      "\u001b[93mDEBUG: 2021-09-13 17:22:48.6185 ParameterBinding Information: 0 :         Argument type ModuleSpecification is not IList, treating this as scalar\u001b[0m\n",
      "DEBUG: 2021-09-13 17:22:48.6189 ParameterBinding Information: 0 :         BIND arg [posh-git] to param [Assembly] SKIPPED\n",
      "DEBUG: 2021-09-13 17:22:48.6191 ParameterBinding Information: 0 :     Parameter [FullyQualifiedName] PIPELINE INPUT ValueFromPipeline NO COERCION\n",
      "\u001b[93mDEBUG: 2021-09-13 17:22:48.6193 ParameterBinderController Information: 0 :  WriteLine       Adding PipelineParameter name=FullyQualifiedName; value=posh-git\u001b[0m\n",
      "DEBUG: 2021-09-13 17:22:48.6200 ParameterBinding Information: 0 :     BIND arg [posh-git] to parameter [FullyQualifiedName]\n",
      "DEBUG: 2021-09-13 17:22:48.6202 ParameterBinding Information: 0 :         Binding collection parameter FullyQualifiedName: argument type [ModuleSpecification], parameter type [Microsoft.PowerShell.Commands.ModuleSpecification[]], collection type Array, element type [Microsoft.PowerShell.Commands.ModuleSpecification], no coerceElementType\n",
      "DEBUG: 2021-09-13 17:22:48.6204 ParameterBinding Information: 0 :         Creating array with element type [Microsoft.PowerShell.Commands.ModuleSpecification] and 1 elements\n",
      "\u001b[93mDEBUG: 2021-09-13 17:22:48.6206 ParameterBinding Information: 0 :         Argument type ModuleSpecification is not IList, treating this as scalar\u001b[0m\n",
      "\u001b[93mDEBUG: 2021-09-13 17:22:48.6207 ParameterBinding Information: 0 :         Adding scalar element of type ModuleSpecification to array position 0\u001b[0m\n",
      "DEBUG: 2021-09-13 17:22:48.6210 ParameterBinding Information: 0 :         Executing VALIDATION metadata: [System.Management.Automation.ValidateTrustedDataAttribute]\n",
      "DEBUG: 2021-09-13 17:22:48.6215 ParameterBinding Information: 0 :         BIND arg [Microsoft.PowerShell.Commands.ModuleSpecification[]] to param [FullyQualifiedName] SUCCESSFUL\n",
      "\u001b[93mDEBUG: 2021-09-13 17:22:48.6218 ParameterBinderController Information: 0 :  WriteLine       aParameterWasBound = True\u001b[0m\n",
      "\u001b[93mDEBUG: 2021-09-13 17:22:48.6220 ParameterBinderController Information: 0 :  WriteLine       CurrentParameterSetName = FullyQualifiedName\u001b[0m\n",
      "\u001b[93mDEBUG: 2021-09-13 17:22:48.6222 ParameterBinderController Information: 0 :  WriteLine       aParameterWasBound = False\u001b[0m\n",
      "\u001b[93mDEBUG: 2021-09-13 17:22:48.6224 ParameterBinderController Information: 0 :  WriteLine       aParameterWasBound = False\u001b[0m\n",
      "\u001b[93mDEBUG: 2021-09-13 17:22:48.6226 ParameterBinderController Information: 0 :  WriteLine       aParameterWasBound = False\u001b[0m\n",
      "\u001b[93mDEBUG: 2021-09-13 17:22:48.6228 ParameterBinderController Information: 0 :  WriteLine       CurrentParameterSetName = FullyQualifiedName\u001b[0m\n",
      "DEBUG: 2021-09-13 17:22:48.6230 ParameterBinding Information: 0 : MANDATORY PARAMETER CHECK on cmdlet [Import-Module]\n",
      "\u001b[93mDEBUG: 2021-09-13 17:22:48.6474 ParameterBinding Information: 0 : CALLING EndProcessing\u001b[0m\n"
     ]
    }
   ],
   "source": [
    "Trace-Command -Name ParameterBinding, ParameterBinderController -PSHost -Expression {[Microsoft.PowerShell.Commands.ModuleSpecification]::new(\"posh-git\") | Import-Module}"
   ]
  },
  {
   "cell_type": "markdown",
   "metadata": {},
   "source": [
    "Nailed it! We see PowerShell try to bind to a few other parameters, first (`-Name`, then `-ModuleInfo`, then `-Assembly`), none of which expect the type that we piped. The, we see success when binding to `-FullyQualifiedName` -- correct type, no coercion needed -- successful! We also notice that this parameter is a part of the ParameterSet of the same name, `FullyQualifiedName`. We can explore ParameterSets in another notebook."
   ]
  },
  {
   "cell_type": "markdown",
   "metadata": {},
   "source": [
    "### Parameters / ParameterSets Example\n",
    "Now for a few examples to reinforce the learnings we had above. Here we'll use a couple of minimal scripts to further explore parameter binding. The scripts take some parameters and just return the parameters that were bound. \n",
    "\n",
    "Aside: these minimal scripts are referred to as \"advanced scripts\" in PowerShell documentation, as they use the `CmdletBinding` attribute so as to be able to employ many cmdlet-like features -- you can read more about this attribute at via the PowerShell help (`Get-Help -Name about_Functions_CmdletBindingAttribute`), or online at the [CmdletBinding documentation page](https://docs.microsoft.com/en-us/powershell/module/microsoft.powershell.core/about/about_functions_cmdletbindingattribute)\n",
    "\n",
    "First we'll have a look at the parameters for this script:"
   ]
  },
  {
   "cell_type": "code",
   "execution_count": 4,
   "metadata": {},
   "outputs": [
    {
     "name": "stdout",
     "output_type": "stream",
     "text": [
      "\n",
      "name  pipelineInput  position type\n",
      "----  -------------  -------- ----\n",
      "Name  true (ByValue) 1        @{name=String[]}\n",
      "Count true (ByValue) 2        @{name=Int32}\n",
      "Start true (ByValue) 3        @{name=DateTime}\n",
      "\n"
     ]
    }
   ],
   "source": [
    "Get-Help -Parameter * -Name .\\Test-ValueFromPipelineBehavior.ps1 | Format-Table -Property name, pipelineInput, position, type"
   ]
  },
  {
   "cell_type": "markdown",
   "metadata": {},
   "source": [
    "Three parameters, all of which accept pipeline input by value, and each of which expects different input object types. As we saw above, PowerShell will bind parameters based on the input object type, and may do some coercing to try to \"fit\" pipeline objects into values for parameters."
   ]
  },
  {
   "cell_type": "markdown",
   "metadata": {},
   "source": [
    "So, if we pipe in a String, we might expect PowerShell to bind that to the parameter `-Name`. Let's see:"
   ]
  },
  {
   "cell_type": "code",
   "execution_count": 5,
   "metadata": {},
   "outputs": [
    {
     "name": "stdout",
     "output_type": "stream",
     "text": [
      "\n",
      "Key  Value\n",
      "---  -----\n",
      "Name {Dickie}\n",
      "\n"
     ]
    }
   ],
   "source": [
    "\"Dickie\" | .\\Test-ValueFromPipelineBehavior.ps1"
   ]
  },
  {
   "cell_type": "markdown",
   "metadata": {},
   "source": [
    "Just as expected: the String `Dickie` was bound to the only parameter that expects a string, `-Name`. Let's see about an Int and a DateTime:"
   ]
  },
  {
   "cell_type": "code",
   "execution_count": 6,
   "metadata": {},
   "outputs": [
    {
     "name": "stdout",
     "output_type": "stream",
     "text": [
      "\n",
      "Key   Value\n",
      "---   -----\n",
      "Start 9/13/2021 5:23:04 PM\n",
      "Name  {09/13/2021 17:23:04}\n",
      "\n"
     ]
    }
   ],
   "source": [
    " Get-Date | .\\Test-ValueFromPipelineBehavior.ps1"
   ]
  },
  {
   "cell_type": "code",
   "execution_count": 7,
   "metadata": {},
   "outputs": [
    {
     "name": "stdout",
     "output_type": "stream",
     "text": [
      "\n",
      "Key                  Value\n",
      "---                  -----\n",
      "Count                    2\n",
      "Start 1/1/0001 12:00:00 AM\n",
      "Name                   {2}\n",
      "\n"
     ]
    }
   ],
   "source": [
    " 2 | .\\Test-ValueFromPipelineBehavior.ps1"
   ]
  },
  {
   "cell_type": "markdown",
   "metadata": {},
   "source": [
    "What the world?! Why did a DateTime get bound to multiple parameters (parameters expecting a String and a DateTime, respectively), as did an Int?!  That's where the coercion comes in -- the input objects' types can be cast or coerced into the expected types for more than one of the script's parameters, and so they are!\n",
    "\n",
    "Enter ParameterSets:\n",
    "> PowerShell uses parameter sets to enable you to write a single function that can do different actions for different scenarios\n",
    "- [about_Parameter_Sets help](https://docs.microsoft.com/en-us/powershell/module/microsoft.powershell.core/about/about_parameter_sets), or `Get-Help -Name about_Parameter_Sets`"
   ]
  },
  {
   "cell_type": "markdown",
   "metadata": {},
   "source": [
    "Let's have a look at the ParameterSet of which each parameter is a part for this script (the following code block, while not specific to parameter binding, gives us a wonderful example of the discoverability of PowerShell itself -- we can use PowerShell to learn more about PowerShell, its cmdlets, its parameters, etc!):"
   ]
  },
  {
   "cell_type": "code",
   "execution_count": 8,
   "metadata": {},
   "outputs": [
    {
     "name": "stdout",
     "output_type": "stream",
     "text": [
      "\n",
      "   ParameterSet: __AllParameterSets\n",
      "\n",
      "Name  ParameterType   IsMandatory IsDynamic Position Alias ParameterSet       IsDefaultParameterSet\n",
      "----  -------------   ----------- --------- -------- ----- ------------       ---------------------\n",
      "Count System.Int32          False     False        1       __AllParameterSets                 False\n",
      "Name  System.String[]       False     False        0       __AllParameterSets                 False\n",
      "Start System.DateTime       False     False        2       __AllParameterSets                 False\n",
      "\n"
     ]
    }
   ],
   "source": [
    "Get-Command .\\Test-ValueFromPipelineBehavior.ps1 | Foreach-Object {$_.ParameterSets} -PipelineVariable oThisParamSet | Foreach-Object {\n",
    "    $_.parameters | Where-Object {$_.Name -NotIn ([System.Management.Automation.Internal.CommonParameters].GetProperties()).Name} | Sort-Object -Property Name |\n",
    "    Select-Object -Property Name, ParameterType, is*,\n",
    "        @{n=\"Position\"; e={if ($_.Position -lt 0) {\"Named\"} else {$_.Position}}},\n",
    "        @{n=\"Alias\"; e={$_.Aliases}},\n",
    "        @{n=\"ParameterSet\"; e={$oThisParamSet.Name}},\n",
    "        @{n=\"IsDefaultParameterSet\"; e={$oThisParamSet.IsDefault}}\n",
    "} | Format-Table -AutoSize -GroupBy @{n=\"ParameterSet\"; e={\"{0}{1}\" -f $_.ParameterSet, $(if ($_.IsDefaultParameterSet) {\" (default)\"})}}"
   ]
  },
  {
   "cell_type": "markdown",
   "metadata": {},
   "source": [
    "Three parameters, and a single parameter set (with the default name `__AllParameterSets`), got it."
   ]
  },
  {
   "cell_type": "markdown",
   "metadata": {},
   "source": [
    "Now let's have a look at similar examples, but using a slightly updated version of the script that employs parameter sets so as to have a more desirable/expected experience for the consumer:"
   ]
  },
  {
   "cell_type": "code",
   "execution_count": 9,
   "metadata": {},
   "outputs": [
    {
     "name": "stdout",
     "output_type": "stream",
     "text": [
      "\n",
      "name  pipelineInput  position type\n",
      "----  -------------  -------- ----\n",
      "Name  true (ByValue) named    @{name=String[]}\n",
      "Count true (ByValue) named    @{name=Int32}\n",
      "Start true (ByValue) named    @{name=DateTime}\n",
      "\n"
     ]
    }
   ],
   "source": [
    "Get-Help -Parameter * -Name .\\Test-ValueFromPipelineBehavior_withParamSet.ps1 | Format-Table -Property name, pipelineInput, position, type"
   ]
  },
  {
   "cell_type": "markdown",
   "metadata": {},
   "source": [
    "And, to point out that each parameter is in a different ParameterSet from the others, let's look at the command's `ParameterSets` info:"
   ]
  },
  {
   "cell_type": "code",
   "execution_count": 10,
   "metadata": {},
   "outputs": [
    {
     "name": "stdout",
     "output_type": "stream",
     "text": [
      "\n",
      "   ParameterSet: ByName (default)\n",
      "\n",
      "Name ParameterType   IsMandatory IsDynamic Position Alias ParameterSet IsDefaultParameterSet\n",
      "---- -------------   ----------- --------- -------- ----- ------------ ---------------------\n",
      "Name System.String[]       False     False Named          ByName                        True\n",
      "\n",
      "   ParameterSet: ByCount\n",
      "\n",
      "Name  ParameterType IsMandatory IsDynamic Position Alias ParameterSet IsDefaultParameterSet\n",
      "----  ------------- ----------- --------- -------- ----- ------------ ---------------------\n",
      "Count System.Int32        False     False Named          ByCount                      False\n",
      "\n",
      "   ParameterSet: ByStart\n",
      "\n",
      "Name  ParameterType   IsMandatory IsDynamic Position Alias ParameterSet IsDefaultParameterSet\n",
      "----  -------------   ----------- --------- -------- ----- ------------ ---------------------\n",
      "Start System.DateTime       False     False Named          ByStart                      False\n",
      "\n"
     ]
    }
   ],
   "source": [
    "Get-Command .\\Test-ValueFromPipelineBehavior_withParamSet.ps1 | Foreach-Object {$_.ParameterSets} -PipelineVariable oThisParamSet | Foreach-Object {\n",
    "    $_.parameters | Where-Object {$_.Name -NotIn ([System.Management.Automation.Internal.CommonParameters].GetProperties()).Name} | Sort-Object -Property Name |\n",
    "    Select-Object -Property Name, ParameterType, is*,\n",
    "        @{n=\"Position\"; e={if ($_.Position -lt 0) {\"Named\"} else {$_.Position}}},\n",
    "        @{n=\"Alias\"; e={$_.Aliases}},\n",
    "        @{n=\"ParameterSet\"; e={$oThisParamSet.Name}},\n",
    "        @{n=\"IsDefaultParameterSet\"; e={$oThisParamSet.IsDefault}}\n",
    "} | Format-Table -AutoSize -GroupBy @{n=\"ParameterSet\"; e={\"{0}{1}\" -f $_.ParameterSet, $(if ($_.IsDefaultParameterSet) {\" (default)\"})}}"
   ]
  },
  {
   "cell_type": "markdown",
   "metadata": {},
   "source": [
    "Mhmmm -- three separate parameter sets! Now PowerShell should only bind a pipeline value to at most one parameter for this particular script (PowerShell uses just one parameter set at a time). Let's see:"
   ]
  },
  {
   "cell_type": "code",
   "execution_count": 11,
   "metadata": {},
   "outputs": [
    {
     "name": "stdout",
     "output_type": "stream",
     "text": [
      "\n",
      "Key  Value\n",
      "---  -----\n",
      "Name {Dickie}\n",
      "\n"
     ]
    }
   ],
   "source": [
    "\"Dickie\" | .\\Test-ValueFromPipelineBehavior_withParamSet.ps1"
   ]
  },
  {
   "cell_type": "code",
   "execution_count": 12,
   "metadata": {},
   "outputs": [
    {
     "name": "stdout",
     "output_type": "stream",
     "text": [
      "\n",
      "Key   Value\n",
      "---   -----\n",
      "Count     2\n",
      "\n"
     ]
    }
   ],
   "source": [
    "2 | .\\Test-ValueFromPipelineBehavior_withParamSet.ps1"
   ]
  },
  {
   "cell_type": "code",
   "execution_count": 13,
   "metadata": {},
   "outputs": [
    {
     "name": "stdout",
     "output_type": "stream",
     "text": [
      "\n",
      "Key   Value\n",
      "---   -----\n",
      "Start 9/13/2021 5:23:23 PM\n",
      "\n"
     ]
    }
   ],
   "source": [
    "Get-Date | .\\Test-ValueFromPipelineBehavior_withParamSet.ps1"
   ]
  },
  {
   "cell_type": "markdown",
   "metadata": {},
   "source": [
    "That's the stuff! So, ParameterSets also come in to play. We can use the `Get-Command` code blocks above to inspect parameter sets for any command/script (or any other command inspection/discovery technique you like), and we can further our understanding of how and why PowerShell binds parameters from pipeline the ways that it does.\n",
    "\n",
    "And, now we know that PowerShell binds parameters based on parameter attributes (if the parameter accepts values from pipeline), on the object types that are coming through the pipeline, and the parameter sets defined in the cmdlet / script / function. Neat!"
   ]
  }
 ],
 "metadata": {
  "interpreter": {
   "hash": "1baa965d5efe3ac65b79dfc60c0d706280b1da80fedb7760faf2759126c4f253"
  },
  "kernelspec": {
   "display_name": ".NET (PowerShell)",
   "language": "PowerShell",
   "name": ".net-powershell"
  },
  "language_info": {
   "file_extension": ".ps1",
   "mimetype": "text/x-powershell",
   "name": "PowerShell",
   "pygments_lexer": "powershell",
   "version": "7.0"
  }
 },
 "nbformat": 4,
 "nbformat_minor": 4
}

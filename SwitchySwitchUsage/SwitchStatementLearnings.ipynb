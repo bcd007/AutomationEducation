{
 "cells": [
  {
   "cell_type": "markdown",
   "metadata": {
    "dotnet_interactive": {
     "language": "pwsh"
    }
   },
   "source": [
    "# How Powerful is the 'Switch' Statement?\n",
    "(Hint:  *Pretty frickin*!)\n",
    "FYI:  All of these examples were swiped from [PowerShell Deep Dives Site](https://docs.microsoft.com/en-us/powershell/scripting/learn/deep-dives/overview?view=powershell-7.1)"
   ]
  },
  {
   "cell_type": "code",
   "execution_count": null,
   "metadata": {
    "dotnet_interactive": {
     "language": "pwsh"
    }
   },
   "outputs": [],
   "source": [
    "$day = 3\n",
    "\n",
    "switch ( $day )\n",
    "{\n",
    "    0 { $result = 'Sunday'    }\n",
    "    1 { $result = 'Monday'    }\n",
    "    2 { $result = 'Tuesday'   }\n",
    "    3 { $result = 'Wednesday' }\n",
    "    4 { $result = 'Thursday'  }\n",
    "    5 { $result = 'Friday'    }\n",
    "    6 { $result = 'Saturday'  }\n",
    "}\n",
    "\n",
    "$result"
   ]
  },
  {
   "cell_type": "code",
   "execution_count": null,
   "metadata": {
    "dotnet_interactive": {
     "language": "pwsh"
    }
   },
   "outputs": [],
   "source": [
    "$result = switch ( $day )\n",
    "{\n",
    "    0 { 'Sunday' }\n",
    "    # ...\n",
    "    6 { 'Saturday' }\n",
    "    default { 'Unknown' }\n",
    "}\n",
    "\n",
    "$result"
   ]
  },
  {
   "cell_type": "code",
   "execution_count": null,
   "metadata": {
    "dotnet_interactive": {
     "language": "pwsh"
    }
   },
   "outputs": [],
   "source": [
    "$roles = @('WEB','Database')\n",
    "\n",
    "switch ( $roles ) {\n",
    "    'Database'   { 'Configure SQL' }\n",
    "    'WEB'        { 'Configure IIS' }\n",
    "    'FileServer' { 'Configure Share' }\n",
    "}\n"
   ]
  },
  {
   "cell_type": "code",
   "execution_count": null,
   "metadata": {
    "dotnet_interactive": {
     "language": "pwsh"
    }
   },
   "outputs": [],
   "source": [
    "$Message = 'Warning, out of disk space'\n",
    "switch -Regex ( $message )\n",
    "{\n",
    "    '^Error'\n",
    "    {\n",
    "        Write-Error -Message $Message\n",
    "    }\n",
    "    '^Warning'\n",
    "    {\n",
    "        Write-Warning -Message $Message\n",
    "    }\n",
    "    default\n",
    "    {\n",
    "        Write-Information $message\n",
    "    }\n",
    "}\n"
   ]
  },
  {
   "cell_type": "code",
   "execution_count": null,
   "metadata": {
    "dotnet_interactive": {
     "language": "pwsh"
    }
   },
   "outputs": [],
   "source": [
    "$day = 3\n",
    "\n",
    "$lookup = @{\n",
    "    0 = 'Sunday'\n",
    "    1 = 'Monday'\n",
    "    2 = 'Tuesday'\n",
    "    3 = 'Wednesday'\n",
    "    4 = 'Thursday'\n",
    "    5 = 'Friday'\n",
    "    6 = 'Saturday'\n",
    "}\n",
    "\n",
    "$lookup[$day]"
   ]
  },
  {
   "cell_type": "markdown",
   "metadata": {
    "dotnet_interactive": {
     "language": "pwsh"
    }
   },
   "source": [
    "# Let's chat about *enum* and what it brings to PowerShell (stolen right from 'get-help about_Enum'):\n",
    "\n",
    "The enum statement allows you to create a strongly typed set of labels. That enumeration can be used in the code without having to parse or check for spelling errors.\n",
    "\n",
    "Enumerations are internally represented as integers with a starting value of zero. The first label in the list is assigned the value zero. The remaining labels are assigned with consecutive numbers.\n"
   ]
  },
  {
   "cell_type": "code",
   "execution_count": null,
   "metadata": {
    "dotnet_interactive": {
     "language": "pwsh"
    }
   },
   "outputs": [],
   "source": [
    "enum MediaTypes {\n",
    "    unknown\n",
    "    music = 10\n",
    "    mp3\n",
    "    aac\n",
    "    ogg = 15\n",
    "    oga = 15\n",
    "    mogg = 15\n",
    "    picture = 20\n",
    "    jpg\n",
    "    jpeg = 21\n",
    "    png\n",
    "    video = 40\n",
    "    mpg\n",
    "    mpeg = 41\n",
    "    avi\n",
    "    m4v\n",
    "}\n",
    "\n",
    "[MediaTypes].GetEnumNames()\n",
    "[MediaTypes].GetEnumValues()\n",
    "[MediaTypes].GetEnumName(15)\n"
   ]
  },
  {
   "cell_type": "code",
   "execution_count": null,
   "metadata": {
    "dotnet_interactive": {
     "language": "pwsh"
    }
   },
   "outputs": [],
   "source": [
    "$day = 3\n",
    "\n",
    "enum DayOfTheWeek {\n",
    "    Sunday\n",
    "    Monday\n",
    "    Tuesday\n",
    "    Wednesday\n",
    "    Thursday\n",
    "    Friday\n",
    "    Saturday\n",
    "}\n",
    "\n",
    "[DayOfTheWeek]$day"
   ]
  },
  {
   "cell_type": "code",
   "execution_count": null,
   "metadata": {
    "dotnet_interactive": {
     "language": "pwsh"
    }
   },
   "outputs": [],
   "source": [
    "enum Context {\n",
    "    Component\n",
    "    Role\n",
    "    Location\n",
    "}\n",
    "\n",
    "$item = [Context]::Role\n",
    "\n",
    "switch ( $item )\n",
    "{\n",
    "    Component\n",
    "    {\n",
    "        'is a component'\n",
    "    }\n",
    "    Role\n",
    "    {\n",
    "        'is a role'\n",
    "    }\n",
    "    Location\n",
    "    {\n",
    "        'is a location'\n",
    "    }\n",
    "}"
   ]
  }
 ],
 "metadata": {
  "kernelspec": {
   "display_name": ".NET (PowerShell)",
   "language": "PowerShell",
   "name": ".net-pwsh"
  },
  "language_info": {
   "name": "PowerShell"
  }
 },
 "nbformat": 4,
 "nbformat_minor": 2
}
